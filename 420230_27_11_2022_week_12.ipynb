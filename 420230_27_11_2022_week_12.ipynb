{
  "nbformat": 4,
  "nbformat_minor": 0,
  "metadata": {
    "colab": {
      "provenance": []
    },
    "kernelspec": {
      "name": "python3",
      "display_name": "Python 3"
    },
    "language_info": {
      "name": "python"
    }
  },
  "cells": [
    {
      "cell_type": "markdown",
      "source": [
        "Week 12 - Implement EM Algorithm for Clustering\n"
      ],
      "metadata": {
        "id": "zpZNoMt10E-n"
      }
    },
    {
      "cell_type": "code",
      "execution_count": 1,
      "metadata": {
        "colab": {
          "base_uri": "https://localhost:8080/"
        },
        "id": "2U_UwaTlz3BO",
        "outputId": "20f44dc4-ecaf-476f-9c7b-e0fec9e1c4a3"
      },
      "outputs": [
        {
          "output_type": "stream",
          "name": "stdout",
          "text": [
            "Means:  [array([5.01042334, 3.43126523, 1.462502  , 0.24999911]), array([7.00229292, 2.95298501, 5.41869119, 1.66818313]), array([6.07975316, 2.85359879, 4.77325317, 1.67513658])]\n",
            "Covariance:  [array([[0.12634813, 0.10091823, 0.01663974, 0.01010463],\n",
            "       [0.10091823, 0.14380007, 0.01241962, 0.00968842],\n",
            "       [0.01663974, 0.01241962, 0.03067713, 0.00604182],\n",
            "       [0.01010463, 0.00968842, 0.00604182, 0.0108334 ]]), array([[0.28636307, 0.10958635, 0.47190227, 0.15352984],\n",
            "       [0.10958635, 0.14454062, 0.11227507, 0.03995043],\n",
            "       [0.47190227, 0.11227507, 0.90734215, 0.29507984],\n",
            "       [0.15352984, 0.03995043, 0.29507984, 0.10470875]]), array([[0.30308551, 0.10576616, 0.32921463, 0.17326535],\n",
            "       [0.10576616, 0.0997535 , 0.13799589, 0.09084908],\n",
            "       [0.32921463, 0.13799589, 0.53944704, 0.28751184],\n",
            "       [0.17326535, 0.09084908, 0.28751184, 0.19902902]])]\n",
            "Weights:  [0.3265259  0.13644215 0.53703194]\n",
            "Log likelihood:  -193.1639677897178310013491964\n",
            "[2 2 1 2 2 2 2 0 0 0 2 2 2 2 2 0 0 1 2 2 1 2 1 2 2 2 2 1 2 2 2 0 0 0 2 0 2\n",
            " 0 2 1 2 0 2 1 2 2 2 2 2 2 0 1 1 0 0 2 2 2 2 0 2 2 0 2 2 1 2 1 2 0 2 0 2 0\n",
            " 2 0 2 0 0 2 1 0 0 2 2 1 0 2 2 2 0 2 0 1 2 2 0 2 2 0 2 0 0 2 1 2 0 2 0 0 0\n",
            " 2 1 1 2 0 2 0 0 1 0 2 0 2 1 0 0 2 0 2 2 2 0 0 0 2 2 2 0 2 0 2 1 2 1 2 2]\n"
          ]
        }
      ],
      "source": [
        "import numpy as np, math, pandas as pd\n",
        "from scipy.stats import multivariate_normal\n",
        "from decimal import Decimal\n",
        "\n",
        "\n",
        "def clustering(points):\n",
        "    points = list(set(points)) #To eliminate reduntant points\n",
        "    import random\n",
        "    '''\n",
        "    Initialize random gaussians!\n",
        "    '''\n",
        "    mean = [np.array(list(points[random.randint(0,len(points)-1)])), np.array(list(points[random.randint(0,len(points)-1)])), np.array(list(points[random.randint(0,len(points)-1)]))]\n",
        "    covariance1 = np.cov(np.transpose(points))\n",
        "    weights = np.array([0.3, 0.3, 0.4])\n",
        "    covariance = [covariance1, covariance1, covariance1]\n",
        "    init_log_likelihood = None #Log likelihood to test convergence None initially\n",
        "    threshold = 0.01 #Threshold difference for convergence\n",
        "\n",
        "    while True:\n",
        "\n",
        "        prob_dict = {point:[] for point in points}\n",
        "        new_means = [np.array([0,0,0,0]) for _ in range(3)]\n",
        "        new_covariance = [np.array([[0,0,0,0], [0,0,0,0], [0,0,0,0], [0,0,0,0]]) for _ in range(3)]\n",
        "\n",
        "        log_likelihood = Decimal(0) #Using decimal to increase the precision of floating point numbers\n",
        "\n",
        "        for point in points:\n",
        "\n",
        "            prob_sum = 0 #Prob sum for normalization\n",
        "\n",
        "            for _ in range(3):\n",
        "                prob =  multivariate_normal(mean=mean[_], cov=covariance[_]).pdf(point) #Finding gaussian probability\n",
        "                prob = prob*weights[_] #Multiply gaussian probability with weight\n",
        "                prob_dict[point].append(prob)\n",
        "                prob_sum += prob\n",
        "            \n",
        "            prob_sum = Decimal(prob_sum)\n",
        "\n",
        "            log_likelihood += prob_sum.ln() #comprehensive computation of log likelihood\n",
        "\n",
        "            for _ in range(3):\n",
        "                prob_dict[point][_] = prob_dict[point][_]/float(prob_sum) #Normalizing the probability\n",
        "                new_means[_] = new_means[_]+np.dot(prob_dict[point][_], list(point)) #New means for the next iteration\n",
        "\n",
        "        for _ in range(3):\n",
        "            weights[_] = sum([prob_item[1][_] for prob_item in prob_dict.items()]) #New weights\n",
        "            new_means[_] = np.divide(new_means[_], weights[_])\n",
        "            \n",
        "        for _ in range(3):\n",
        "            prob_sum = sum([prob_item[1][_] for prob_item in prob_dict.items()])\n",
        "            new_covariance[_] = np.cov(np.transpose(points), bias=True, aweights=[prob_item[1][_]/prob_sum for prob_item in prob_dict.items()])\n",
        "            weights[_] = weights[_]/len(points)     \n",
        "\n",
        "        mean = new_means \n",
        "        covariance = new_covariance\n",
        "\n",
        "        #check for convergence\n",
        "        if init_log_likelihood and abs(init_log_likelihood-log_likelihood)<=threshold:\n",
        "            break\n",
        "\n",
        "        init_log_likelihood = log_likelihood\n",
        "\n",
        "    probabilities = np.zeros(shape=(len(points),3))\n",
        "    for i in range(3):\n",
        "        distribution = multivariate_normal(mean=mean[i], cov=covariance[i])\n",
        "        probabilities[:,i] = distribution.pdf(points)\n",
        "    numerator = probabilities*np.array([weights])\n",
        "    denominator = numerator.sum(axis=1)[:, np.newaxis]\n",
        "    probabilities = numerator/denominator\n",
        "\n",
        "    print(\"Means: \", mean)\n",
        "    print(\"Covariance: \", covariance)\n",
        "    print(\"Weights: \", weights)\n",
        "    print(\"Log likelihood: \", log_likelihood)\n",
        "\n",
        "    return np.argmax(probabilities, axis=1)\n",
        "\n",
        "\n",
        "def get_points():\n",
        "    '''\n",
        "    Read points from csv file.\n",
        "    '''\n",
        "    file = pd.read_csv(\"dataset.csv\")\n",
        "    points = []\n",
        "    for _,row in file.iterrows():\n",
        "        points.append((row['A'], row['B'], row['C'], row['D']))\n",
        "\n",
        "    return points\n",
        "    \n",
        "def main():\n",
        "    points = get_points()\n",
        "    assignment = clustering(points)\n",
        "    print(assignment)\n",
        "if __name__ == '__main__':\n",
        "    main()\n"
      ]
    }
  ]
}